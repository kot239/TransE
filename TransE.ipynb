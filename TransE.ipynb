{
  "cells": [
    {
      "cell_type": "markdown",
      "metadata": {
        "id": "2QvYUwZ2Air2"
      },
      "source": [
        "# TransE model\n",
        "\n",
        "This notebook is the implementation of TransE model that is presented in [this article](https://papers.nips.cc/paper/2013/file/1cecc7a77928ca8133fa24680a88d2f9-Paper.pdf)."
      ]
    },
    {
      "cell_type": "markdown",
      "metadata": {
        "id": "_gTA1cLCA2zL"
      },
      "source": [
        "## Imports"
      ]
    },
    {
      "cell_type": "code",
      "execution_count": 1,
      "metadata": {
        "id": "Dp5TJdt-Ag7W"
      },
      "outputs": [],
      "source": [
        "import pandas as pd\n",
        "import numpy as np\n",
        "import matplotlib.pyplot as plt"
      ]
    },
    {
      "cell_type": "code",
      "execution_count": 2,
      "metadata": {
        "id": "iJx5T32Am5c1"
      },
      "outputs": [],
      "source": [
        "import torch\n",
        "from torch.utils.data import Dataset, DataLoader\n",
        "from torch import Tensor\n",
        "import torch.nn as nn\n",
        "import torch.optim as optim"
      ]
    },
    {
      "cell_type": "code",
      "execution_count": 3,
      "metadata": {
        "id": "-LuaL6wAuCWs"
      },
      "outputs": [],
      "source": [
        "from tqdm import tqdm"
      ]
    },
    {
      "cell_type": "code",
      "execution_count": 4,
      "metadata": {
        "id": "pGM7bGhC7Qx0"
      },
      "outputs": [],
      "source": [
        "from typing import List, Tuple"
      ]
    },
    {
      "cell_type": "markdown",
      "metadata": {
        "id": "xzgfFc5WBHaO"
      },
      "source": [
        "## Dataset processing"
      ]
    },
    {
      "cell_type": "code",
      "execution_count": 43,
      "metadata": {
        "colab": {
          "base_uri": "https://localhost:8080/",
          "height": 206
        },
        "id": "8ZAUORNwA3oE",
        "outputId": "4d1856c7-32b2-4a2d-e9ba-60230a10ee59"
      },
      "outputs": [
        {
          "data": {
            "text/html": [
              "\n",
              "  <div id=\"df-df97fd69-5cc7-411c-836d-eaed8a4eec0e\">\n",
              "    <div class=\"colab-df-container\">\n",
              "      <div>\n",
              "<style scoped>\n",
              "    .dataframe tbody tr th:only-of-type {\n",
              "        vertical-align: middle;\n",
              "    }\n",
              "\n",
              "    .dataframe tbody tr th {\n",
              "        vertical-align: top;\n",
              "    }\n",
              "\n",
              "    .dataframe thead th {\n",
              "        text-align: right;\n",
              "    }\n",
              "</style>\n",
              "<table border=\"1\" class=\"dataframe\">\n",
              "  <thead>\n",
              "    <tr style=\"text-align: right;\">\n",
              "      <th></th>\n",
              "      <th>h</th>\n",
              "      <th>l</th>\n",
              "      <th>t</th>\n",
              "    </tr>\n",
              "  </thead>\n",
              "  <tbody>\n",
              "    <tr>\n",
              "      <th>0</th>\n",
              "      <td>/m/027rn</td>\n",
              "      <td>/location/country/form_of_government</td>\n",
              "      <td>/m/06cx9</td>\n",
              "    </tr>\n",
              "    <tr>\n",
              "      <th>1</th>\n",
              "      <td>/m/017dcd</td>\n",
              "      <td>/tv/tv_program/regular_cast./tv/regular_tv_app...</td>\n",
              "      <td>/m/06v8s0</td>\n",
              "    </tr>\n",
              "    <tr>\n",
              "      <th>2</th>\n",
              "      <td>/m/07s9rl0</td>\n",
              "      <td>/media_common/netflix_genre/titles</td>\n",
              "      <td>/m/0170z3</td>\n",
              "    </tr>\n",
              "    <tr>\n",
              "      <th>3</th>\n",
              "      <td>/m/01sl1q</td>\n",
              "      <td>/award/award_winner/awards_won./award/award_ho...</td>\n",
              "      <td>/m/044mz_</td>\n",
              "    </tr>\n",
              "    <tr>\n",
              "      <th>4</th>\n",
              "      <td>/m/0cnk2q</td>\n",
              "      <td>/soccer/football_team/current_roster./sports/s...</td>\n",
              "      <td>/m/02nzb8</td>\n",
              "    </tr>\n",
              "  </tbody>\n",
              "</table>\n",
              "</div>\n",
              "      <button class=\"colab-df-convert\" onclick=\"convertToInteractive('df-df97fd69-5cc7-411c-836d-eaed8a4eec0e')\"\n",
              "              title=\"Convert this dataframe to an interactive table.\"\n",
              "              style=\"display:none;\">\n",
              "        \n",
              "  <svg xmlns=\"http://www.w3.org/2000/svg\" height=\"24px\"viewBox=\"0 0 24 24\"\n",
              "       width=\"24px\">\n",
              "    <path d=\"M0 0h24v24H0V0z\" fill=\"none\"/>\n",
              "    <path d=\"M18.56 5.44l.94 2.06.94-2.06 2.06-.94-2.06-.94-.94-2.06-.94 2.06-2.06.94zm-11 1L8.5 8.5l.94-2.06 2.06-.94-2.06-.94L8.5 2.5l-.94 2.06-2.06.94zm10 10l.94 2.06.94-2.06 2.06-.94-2.06-.94-.94-2.06-.94 2.06-2.06.94z\"/><path d=\"M17.41 7.96l-1.37-1.37c-.4-.4-.92-.59-1.43-.59-.52 0-1.04.2-1.43.59L10.3 9.45l-7.72 7.72c-.78.78-.78 2.05 0 2.83L4 21.41c.39.39.9.59 1.41.59.51 0 1.02-.2 1.41-.59l7.78-7.78 2.81-2.81c.8-.78.8-2.07 0-2.86zM5.41 20L4 18.59l7.72-7.72 1.47 1.35L5.41 20z\"/>\n",
              "  </svg>\n",
              "      </button>\n",
              "      \n",
              "  <style>\n",
              "    .colab-df-container {\n",
              "      display:flex;\n",
              "      flex-wrap:wrap;\n",
              "      gap: 12px;\n",
              "    }\n",
              "\n",
              "    .colab-df-convert {\n",
              "      background-color: #E8F0FE;\n",
              "      border: none;\n",
              "      border-radius: 50%;\n",
              "      cursor: pointer;\n",
              "      display: none;\n",
              "      fill: #1967D2;\n",
              "      height: 32px;\n",
              "      padding: 0 0 0 0;\n",
              "      width: 32px;\n",
              "    }\n",
              "\n",
              "    .colab-df-convert:hover {\n",
              "      background-color: #E2EBFA;\n",
              "      box-shadow: 0px 1px 2px rgba(60, 64, 67, 0.3), 0px 1px 3px 1px rgba(60, 64, 67, 0.15);\n",
              "      fill: #174EA6;\n",
              "    }\n",
              "\n",
              "    [theme=dark] .colab-df-convert {\n",
              "      background-color: #3B4455;\n",
              "      fill: #D2E3FC;\n",
              "    }\n",
              "\n",
              "    [theme=dark] .colab-df-convert:hover {\n",
              "      background-color: #434B5C;\n",
              "      box-shadow: 0px 1px 3px 1px rgba(0, 0, 0, 0.15);\n",
              "      filter: drop-shadow(0px 1px 2px rgba(0, 0, 0, 0.3));\n",
              "      fill: #FFFFFF;\n",
              "    }\n",
              "  </style>\n",
              "\n",
              "      <script>\n",
              "        const buttonEl =\n",
              "          document.querySelector('#df-df97fd69-5cc7-411c-836d-eaed8a4eec0e button.colab-df-convert');\n",
              "        buttonEl.style.display =\n",
              "          google.colab.kernel.accessAllowed ? 'block' : 'none';\n",
              "\n",
              "        async function convertToInteractive(key) {\n",
              "          const element = document.querySelector('#df-df97fd69-5cc7-411c-836d-eaed8a4eec0e');\n",
              "          const dataTable =\n",
              "            await google.colab.kernel.invokeFunction('convertToInteractive',\n",
              "                                                     [key], {});\n",
              "          if (!dataTable) return;\n",
              "\n",
              "          const docLinkHtml = 'Like what you see? Visit the ' +\n",
              "            '<a target=\"_blank\" href=https://colab.research.google.com/notebooks/data_table.ipynb>data table notebook</a>'\n",
              "            + ' to learn more about interactive tables.';\n",
              "          element.innerHTML = '';\n",
              "          dataTable['output_type'] = 'display_data';\n",
              "          await google.colab.output.renderOutput(dataTable, element);\n",
              "          const docLink = document.createElement('div');\n",
              "          docLink.innerHTML = docLinkHtml;\n",
              "          element.appendChild(docLink);\n",
              "        }\n",
              "      </script>\n",
              "    </div>\n",
              "  </div>\n",
              "  "
            ],
            "text/plain": [
              "            h                                                  l          t\n",
              "0    /m/027rn               /location/country/form_of_government   /m/06cx9\n",
              "1   /m/017dcd  /tv/tv_program/regular_cast./tv/regular_tv_app...  /m/06v8s0\n",
              "2  /m/07s9rl0                 /media_common/netflix_genre/titles  /m/0170z3\n",
              "3   /m/01sl1q  /award/award_winner/awards_won./award/award_ho...  /m/044mz_\n",
              "4   /m/0cnk2q  /soccer/football_team/current_roster./sports/s...  /m/02nzb8"
            ]
          },
          "execution_count": 43,
          "metadata": {},
          "output_type": "execute_result"
        }
      ],
      "source": [
        "# Reading data from file\n",
        "datapath = 'Dataset/train.txt'\n",
        "triple_raw_data = pd.read_table(datapath, header=None, names=['h', 'l', 't'])\n",
        "triple_raw_data.head(5)"
      ]
    },
    {
      "cell_type": "code",
      "execution_count": 44,
      "metadata": {
        "colab": {
          "base_uri": "https://localhost:8080/"
        },
        "id": "X_2DYcO1rhKm",
        "outputId": "556fb7c8-6a2f-4adc-cbce-1a80bb18c300"
      },
      "outputs": [
        {
          "data": {
            "text/plain": [
              "272115"
            ]
          },
          "execution_count": 44,
          "metadata": {},
          "output_type": "execute_result"
        }
      ],
      "source": [
        "# Checking the size of data\n",
        "len(triple_raw_data)"
      ]
    },
    {
      "cell_type": "code",
      "execution_count": 45,
      "metadata": {
        "id": "RWZz-bRPXiE8"
      },
      "outputs": [],
      "source": [
        "class Encounter:\n",
        "    '''\n",
        "        This is custom class that translates the names of entities\n",
        "        and relations to ids\n",
        "    '''\n",
        "    def __init__(self, raw_dataset: pd.DataFrame):\n",
        "        '''\n",
        "            Initialsing of entities and realtionships\n",
        "\n",
        "            Parameters:\n",
        "                raw_dataset (pd.DataFrame): dataframe of dataset that contains\n",
        "                head (h), relationship (l) and tail (t)\n",
        "        '''\n",
        "        self.entities = set(raw_dataset['h'])\n",
        "        self.entities.update(raw_dataset['t'])\n",
        "        self.realtionships = set(raw_dataset['l'])\n",
        "\n",
        "        self.entities = {elem: pos for pos, elem in enumerate(self.entities)}\n",
        "        self.realtionships = {elem: pos for pos, elem in enumerate(self.realtionships)}\n",
        "    \n",
        "    def get(self, triple: List[str]) -> Tuple[int, int, int]:\n",
        "        '''\n",
        "            Get the ids of head (h), relationship (l) and tail (t)\n",
        "\n",
        "            Parameters:\n",
        "                triple (List[str]): list of head, relationship, tail names.\n",
        "                Should have size 3\n",
        "\n",
        "            Returns:\n",
        "                h_id (int): id of head in encounter\n",
        "                l_id (int): id of relationship in encounter\n",
        "                t_id (int): id of tail in encounter\n",
        "        '''\n",
        "        assert len(triple) == 3, 'Triple should have size 3'\n",
        "        h_id = self.entities[triple[0]]\n",
        "        l_id = self.realtionships[triple[1]]\n",
        "        t_id = self.entities[triple[2]]\n",
        "        return h_id, l_id, t_id\n",
        "\n",
        "    def entities_len(self) -> int:\n",
        "        '''\n",
        "            Return the number of entities (heads and tails) ids \n",
        "\n",
        "            Returns:\n",
        "                len (int): the number of entities ids\n",
        "        '''\n",
        "        return len(self.entities)\n",
        "\n",
        "    def relationships_len(self) -> int:\n",
        "        '''\n",
        "            Return the number of relationships ids \n",
        "\n",
        "            Returns:\n",
        "                len (int): the number of relationships ids\n",
        "        '''\n",
        "        return len(self.realtionships)"
      ]
    },
    {
      "cell_type": "code",
      "execution_count": 46,
      "metadata": {
        "id": "Zfd0RM6jBQK8"
      },
      "outputs": [],
      "source": [
        "class RelationDataset(Dataset):\n",
        "    '''\n",
        "        Implemaentation of torch.utils.data.Dataset\n",
        "    '''\n",
        "    def __init__(self, raw_dataset: pd.DataFrame):\n",
        "        '''\n",
        "            Initialsing of entities, realtionships and encounter\n",
        "            that transform the names to ids\n",
        "\n",
        "            Parameters:\n",
        "                raw_dataset (pd.DataFrame): dataframe of dataset that contains\n",
        "                head (h), relationship (l) and tail (t)\n",
        "        '''\n",
        "        self.dataset = raw_dataset\n",
        "        self.encounter = Encounter(raw_dataset)\n",
        "\n",
        "    def __len__(self) -> int:\n",
        "        '''\n",
        "            Return the size of dataset\n",
        "\n",
        "            Returns:\n",
        "                len (int): the size of dataset\n",
        "        '''\n",
        "        return len(self.dataset)\n",
        "\n",
        "    def __getitem__(self, idx: int) -> Tuple[int, int, int]:\n",
        "        '''\n",
        "            Return the size of dataset\n",
        "\n",
        "            Parameters:\n",
        "                idx (int): the index of getting item\n",
        "\n",
        "            Returns:\n",
        "                data_item (Tuple[int, int, int]): the ids\n",
        "                of head, relationship and tail\n",
        "        '''\n",
        "        data_item = list(self.dataset.loc[idx])\n",
        "        return self.encounter.get(data_item)\n",
        "    \n",
        "    def entities_len(self) -> int:\n",
        "        '''\n",
        "            Return the number of entities (heads and tails) ids \n",
        "\n",
        "            Returns:\n",
        "                len (int): the number of entities ids\n",
        "        '''\n",
        "        return self.encounter.entities_len()\n",
        "\n",
        "    def relationships_len(self) -> int:\n",
        "        '''\n",
        "            Return the number of relationships ids \n",
        "\n",
        "            Returns:\n",
        "                len (int): the number of relationships ids\n",
        "        '''\n",
        "        return self.encounter.relationships_len()"
      ]
    },
    {
      "cell_type": "code",
      "execution_count": 47,
      "metadata": {
        "id": "KTt3yZYueHhE"
      },
      "outputs": [],
      "source": [
        "# Preparing dataset\n",
        "train_dataset = RelationDataset(triple_raw_data)"
      ]
    },
    {
      "cell_type": "code",
      "execution_count": 48,
      "metadata": {
        "id": "ZPzGSW4xYW1L"
      },
      "outputs": [],
      "source": [
        "# Preparing DataLoader\n",
        "dataloader = DataLoader(train_dataset, batch_size=256,\n",
        "                                     shuffle=True, num_workers=2)"
      ]
    },
    {
      "cell_type": "markdown",
      "metadata": {
        "id": "Mpd1uCUYBQdb"
      },
      "source": [
        "## TransE model"
      ]
    },
    {
      "cell_type": "code",
      "execution_count": 49,
      "metadata": {
        "id": "haMLzh00A3SO"
      },
      "outputs": [],
      "source": [
        "class TransEImpl(nn.Module):\n",
        "    '''\n",
        "        This is the implemaentaion of TransE model\n",
        "    '''\n",
        "    def __init__(self, gamma: float, entities_len: int,\n",
        "                 relationships_len: int, k: int, device: torch.device):\n",
        "        '''\n",
        "            Initialize the model:\n",
        "                - creating embeddings for entities and relationships\n",
        "                - normalizing the embeddings of relationships\n",
        "                - initalize the loss function\n",
        "\n",
        "            Parameters:\n",
        "                gamma (float):           margin hyperparameter\n",
        "                entities_len (int):      length of entities embedding\n",
        "                relationships_len (int): length of relationships embedding\n",
        "                k (int):                 space dimension for embeddings\n",
        "                device (torch.device):   device to plug in\n",
        "        '''\n",
        "        super(TransEImpl, self).__init__()\n",
        "        self.k = k\n",
        "        self.device = device\n",
        "        self.entities = self._create_embeddings(entities_len, k)\n",
        "        self.relationships = self._create_embeddings(relationships_len, k)\n",
        "        self.relationships.weight.data = nn.functional.normalize(\n",
        "            self.relationships.weight.data, p=2.0, dim=0)\n",
        "        \n",
        "        # normalize the embeddings of relationships\n",
        "        rn = torch.norm(self.relationships.weight, p=2, dim=1).detach()\n",
        "        self.relationships.weight.div(rn.unsqueeze(1))\n",
        "\n",
        "        # initalize the loss function\n",
        "        self.criterion = nn.MarginRankingLoss(margin=gamma, reduction='sum')\n",
        "\n",
        "    @staticmethod\n",
        "    def _create_embeddings(num_emb: int, k: int) -> nn.Embedding:\n",
        "        '''\n",
        "            Static function that creates the embeddings\n",
        "\n",
        "            Parameters:\n",
        "                num_emb (int): number of embeddings\n",
        "                k (int):       space dimension for embeddings\n",
        "\n",
        "            Returns:\n",
        "                embeddings (nn.Embedding): embedding module\n",
        "        '''\n",
        "        uniform_size = 6 / np.sqrt(k)\n",
        "        embeddings = nn.Embedding(num_embeddings=num_emb,\n",
        "                                     embedding_dim=k)\n",
        "        embeddings.weight.data.uniform_(-uniform_size, uniform_size)\n",
        "        return embeddings\n",
        "        \n",
        "    @staticmethod\n",
        "    def _dissimilariy(triple: List[Tensor]) -> Tensor:\n",
        "        '''\n",
        "            Return the dissimilariy of head, realtionship and tale with\n",
        "            formula:\n",
        "                d(h + l, t) = ||h||^2_2 + ||l||^2_2 + ||t||^2_2 - \n",
        "                    2(h.T t + l.T (t - h))\n",
        "\n",
        "            Parameters:\n",
        "                triple (List[Tensor]): number of embeddings\n",
        "                k (int):               space dimension for embeddings\n",
        "\n",
        "            Returns:\n",
        "                dissimilariy (Tensor): d(h + l, t)\n",
        "        '''\n",
        "        assert len(triple) == 3, 'List \"triple\" should have 3 tensors'\n",
        "        h, l, t = triple\n",
        "        return (torch.pow(torch.norm(h), 2) + \n",
        "                torch.pow(torch.norm(l), 2) + \n",
        "                torch.pow(torch.norm(t), 2) + 2 * \n",
        "                (torch.einsum('bi,bi->b', h, t) + \n",
        "                 torch.einsum('bi,bi->b', l, t - h)))\n",
        "    \n",
        "    def _id_to_emb(self, ids: Tensor) -> List[Tensor]:\n",
        "        '''\n",
        "            Return the embedding by the given number for heads, \n",
        "            relationships and tails\n",
        "\n",
        "            Parameters:\n",
        "                ids (Tensor): ids of heads, relationships and tails\n",
        "\n",
        "            Returns:\n",
        "                embs (List[Tensor]): List of heads, relationships and tails\n",
        "                embeddings\n",
        "        '''\n",
        "        assert ids.shape[1] == 3, 'Tensor of ids should have shape bx3'\n",
        "        h = self.entities.weight[ids[:,0]]\n",
        "        l = self.relationships.weight[ids[:,1]]\n",
        "        t = self.entities.weight[ids[:,2]]\n",
        "        return [h, l, t]\n",
        "\n",
        "    def normalize(self):\n",
        "        '''\n",
        "            Normalize the entities embeddings\n",
        "        '''\n",
        "        en = torch.norm(self.entities.weight, p=2, dim=1).detach()\n",
        "        self.entities.weight.div(en.unsqueeze(1))\n",
        "\n",
        "    def forward(self, good_triples_ids: Tensor, \n",
        "                corrupted_triples_ids: Tensor) -> Tensor:\n",
        "        '''\n",
        "            Return the loss function for pairs of good and corrupted triplets \n",
        "\n",
        "            Parameters:\n",
        "                good_triples_ids (Tensor):      ids of good triples\n",
        "                corrupted_triples_ids (Tensor): ids of corrupted triples\n",
        "\n",
        "            Returns:\n",
        "                loss (Tensor): loss function\n",
        "        '''\n",
        "        return self.loss(self._id_to_emb(good_triples_ids),\n",
        "                         self._id_to_emb(corrupted_triples_ids))\n",
        "    \n",
        "    def predict_dist(self, triple_ids: Tensor) -> Tensor:\n",
        "        '''\n",
        "            Return the eucledian distance between h + l and t for given \n",
        "            triples of heads, relatioships and tails (h, l, t)\n",
        "\n",
        "            Parameters:\n",
        "                triple_ids (Tensor): ids of given heads, relatioships and tails\n",
        "\n",
        "            Returns:\n",
        "                dist (Tensor): distance for given triples\n",
        "        '''\n",
        "        h, l, t = self._id_to_emb(triple_ids)\n",
        "        return torch.norm(h + l - t, p=2, dim=1)\n",
        "\n",
        "    def loss(self, good_triples: List[Tensor], \n",
        "             corrupted_triples: List[Tensor]) -> Tensor:\n",
        "        '''\n",
        "            Return the loss function for given triples of heads, relatioships \n",
        "            and tails (h, l, t). Loss function for pair of good triple (h, l, t)\n",
        "            and corrupted triple (h', l', t') counting by this formula:\n",
        "            L = max(0, gamma + d(h + l,t) - d(h' + l,t'))\n",
        "\n",
        "            Parameters:\n",
        "                good_triples (List[Tensor]):      embeddings for \n",
        "                                                  good triples (h, l, t)\n",
        "                corrupted_triples (List[Tensor]): embeddings for \n",
        "                                                  corrupted triples (h, l, t)\n",
        "\n",
        "            Returns:\n",
        "                loss (Tensor): loss function\n",
        "        '''\n",
        "        target = torch.tensor([-1], dtype=torch.long).to(self.device)\n",
        "        return self.criterion(self._dissimilariy(good_triples),\n",
        "                              self._dissimilariy(corrupted_triples), target)"
      ]
    },
    {
      "cell_type": "code",
      "execution_count": 50,
      "metadata": {
        "id": "JZBJ7cd8HfWU"
      },
      "outputs": [],
      "source": [
        "class TransE:\n",
        "    '''\n",
        "        This is the class for training TransE model\n",
        "    '''\n",
        "    def __init__(self, dataset: RelationDataset, gamma: float = 0.01, \n",
        "                 k: int = 50, batch_size: int = 256, lr: float = 1e-4):\n",
        "        '''\n",
        "            Initialize the class:\n",
        "                - create dataloader\n",
        "                - create device\n",
        "                - create and print TransE model\n",
        "                - create optimizer\n",
        "\n",
        "            Parameters:\n",
        "                dataset (RelationDataset): given dataset\n",
        "                gamma (float):             gamma for loss function\n",
        "                k (int):                   space dimension for embeddings\n",
        "                batch_size (int):          size of the batch\n",
        "                lr (float):                learning rate\n",
        "        '''\n",
        "        self.dataloader = DataLoader(dataset, batch_size=batch_size,\n",
        "                                     shuffle=True, num_workers=2)\n",
        "        self.device = torch.device(\"cuda\" \n",
        "                                   if torch.cuda.is_available() else \"cpu\")\n",
        "        self.model = TransEImpl(gamma, \n",
        "                                dataset.entities_len(), \n",
        "                                dataset.relationships_len(),\n",
        "                                k, self.device).to(self.device)\n",
        "        print(self.model)\n",
        "        self.optimizer = optim.SGD(self.model.parameters(), \n",
        "                                         lr=lr, weight_decay=1)\n",
        "        self.k = k\n",
        "        self.lr = lr\n",
        "\n",
        "    def _train(self) -> Tuple[float, float]:\n",
        "        '''\n",
        "            One epoch of the model training\n",
        "\n",
        "            Returns:\n",
        "                mean_dist (float):  the mean dist between h + l and t\n",
        "                                    after one epoch\n",
        "                total_loss (float): total loss function after one epoch \n",
        "        '''\n",
        "        self.model.train()\n",
        "\n",
        "        total_loss = 0.\n",
        "        mean_dists = []\n",
        "\n",
        "        for i, batch in tqdm(enumerate(self.dataloader), desc='Train'):\n",
        "            self.model.normalize()\n",
        "\n",
        "            batch_triples = torch.hstack([ids.unsqueeze(1) for ids in batch])\n",
        "            batch_triples = batch_triples.to(self.device)\n",
        "\n",
        "            # Making corrupted triples\n",
        "            corrupted_triples = batch_triples.clone().to(self.device)\n",
        "            for j, _ in enumerate(batch_triples):\n",
        "                idx_cor = np.random.randint(len(batch_triples))\n",
        "                is_head = np.random.randint(2)\n",
        "                head_or_tail = 0 if is_head else 2\n",
        "                corrupted_triples[j][head_or_tail] = batch_triples[idx_cor][head_or_tail]\n",
        "\n",
        "            self.optimizer.zero_grad()\n",
        "            loss = self.model(batch_triples, corrupted_triples)\n",
        "            loss.backward()\n",
        "\n",
        "            self.optimizer.step()\n",
        "\n",
        "            mean_dist = self.model.predict_dist(batch_triples).detach()\n",
        "            mean_dists = mean_dists + mean_dist.tolist()\n",
        "\n",
        "            total_loss += loss.item()\n",
        "        \n",
        "        return np.mean(mean_dists), total_loss\n",
        "\n",
        "    def train_model(self, epochs: int = 10):\n",
        "        '''\n",
        "            Training process of the model\n",
        "\n",
        "            Parameters:\n",
        "                epochs (int): number of epochs\n",
        "        '''\n",
        "        self.dists = []\n",
        "        self.losses = []\n",
        "        for e in range(epochs):\n",
        "            t_dist, t_loss = self._train()\n",
        "            self.dists.append(t_dist)\n",
        "            self.losses.append(t_loss)\n",
        "            \n",
        "            # Print epoch information\n",
        "            print_str = f'| end of epoch {(e + 1):3d} ' \\\n",
        "                + f'| mean dist {t_dist:5.3f} ' \\\n",
        "                + f'| total loss {t_loss:5.3f} |'\n",
        "            print()\n",
        "            print('-' * len(print_str))\n",
        "            print(print_str)\n",
        "            print('-' * len(print_str))\n",
        "            print()\n"
      ]
    },
    {
      "cell_type": "code",
      "execution_count": 51,
      "metadata": {
        "id": "h_OPjaFZLfSS"
      },
      "outputs": [],
      "source": [
        "def plot_training(k: int, lr: float, losses: List[float], dists: List[float]):\n",
        "    '''\n",
        "        Plotting two training graphics:\n",
        "            - Epoch dependence loss function \n",
        "            - Epoch dependence distance \n",
        "\n",
        "        Parameters:\n",
        "            k (int):              embedding dimension\n",
        "            lr (float):           learning rate of the model\n",
        "            losses (List[float]): total losses during all epochs\n",
        "            dists (List[float]):  mean dists during all epochs\n",
        "    '''\n",
        "    x = [x for x in range(1, len(losses) + 1)]\n",
        "    fig, (ax1, ax2) = plt.subplots(1, 2, layout='constrained', sharey='col')\n",
        "    fig.set_figheight(8)\n",
        "    fig.set_figwidth(20)\n",
        "\n",
        "    # Plotting loss function dependence\n",
        "    ax1.plot(x, losses)\n",
        "    ax1.set_title('Loss', fontsize=20)\n",
        "    ax1.set_xlabel('number of epochs, #', fontsize=16)\n",
        "    ax1.set_ylabel('Loss', fontsize=16)\n",
        "\n",
        "    # Plotting distance function dependence\n",
        "    ax2.plot(x, dists)\n",
        "    ax2.set_title('Distance between h+l and t', fontsize=20)\n",
        "    ax2.set_xlabel('number of epochs, #', fontsize=16)\n",
        "    ax2.set_ylabel('Distance', fontsize=16)\n",
        "\n",
        "    fig.suptitle(f'TarnsE model k={k}, learning rate={lr}', fontsize=32)\n",
        "\n",
        "    plt.show()"
      ]
    },
    {
      "cell_type": "markdown",
      "metadata": {
        "id": "AvcRbU1Qg2UZ"
      },
      "source": [
        "## Training the model"
      ]
    },
    {
      "cell_type": "code",
      "execution_count": 52,
      "metadata": {
        "colab": {
          "base_uri": "https://localhost:8080/"
        },
        "id": "blrY87MHLmRZ",
        "outputId": "d3651ef2-dba7-44cc-ec38-b4a70d15e564"
      },
      "outputs": [
        {
          "name": "stdout",
          "output_type": "stream",
          "text": [
            "TransEImpl(\n",
            "  (entities): Embedding(14505, 25)\n",
            "  (relationships): Embedding(237, 25)\n",
            "  (criterion): MarginRankingLoss()\n",
            ")\n"
          ]
        }
      ],
      "source": [
        "transE_25_1e_3 = TransE(train_dataset, k=25, lr=0.001)"
      ]
    },
    {
      "cell_type": "code",
      "execution_count": 53,
      "metadata": {
        "colab": {
          "base_uri": "https://localhost:8080/"
        },
        "id": "O88diC1PMV0e",
        "outputId": "9cc75368-a3a9-4810-ff9c-c0de862b11ab"
      },
      "outputs": [
        {
          "name": "stderr",
          "output_type": "stream",
          "text": [
            "Train: 1063it [00:28, 36.75it/s]"
          ]
        },
        {
          "name": "stdout",
          "output_type": "stream",
          "text": [
            "\n",
            "----------------------------------------------------------------\n",
            "| end of epoch   1 | mean dist 2.570 | total loss 66366887.598 |\n",
            "----------------------------------------------------------------\n",
            "\n"
          ]
        },
        {
          "name": "stderr",
          "output_type": "stream",
          "text": [
            "\n",
            "Train: 1063it [00:30, 34.87it/s]\n"
          ]
        },
        {
          "name": "stdout",
          "output_type": "stream",
          "text": [
            "\n",
            "---------------------------------------------------------------\n",
            "| end of epoch   2 | mean dist 0.585 | total loss 9295923.235 |\n",
            "---------------------------------------------------------------\n",
            "\n"
          ]
        },
        {
          "name": "stderr",
          "output_type": "stream",
          "text": [
            "Train: 1063it [00:29, 36.53it/s]\n"
          ]
        },
        {
          "name": "stdout",
          "output_type": "stream",
          "text": [
            "\n",
            "--------------------------------------------------------------\n",
            "| end of epoch   3 | mean dist 0.164 | total loss 535558.485 |\n",
            "--------------------------------------------------------------\n",
            "\n"
          ]
        },
        {
          "name": "stderr",
          "output_type": "stream",
          "text": [
            "Train: 1063it [00:29, 36.41it/s]"
          ]
        },
        {
          "name": "stdout",
          "output_type": "stream",
          "text": [
            "\n",
            "-------------------------------------------------------------\n",
            "| end of epoch   4 | mean dist 0.053 | total loss 36513.899 |\n",
            "-------------------------------------------------------------\n",
            "\n"
          ]
        },
        {
          "name": "stderr",
          "output_type": "stream",
          "text": [
            "\n",
            "Train: 1063it [00:30, 35.25it/s]"
          ]
        },
        {
          "name": "stdout",
          "output_type": "stream",
          "text": [
            "\n",
            "------------------------------------------------------------\n",
            "| end of epoch   5 | mean dist 0.020 | total loss 4346.700 |\n",
            "------------------------------------------------------------\n",
            "\n"
          ]
        },
        {
          "name": "stderr",
          "output_type": "stream",
          "text": [
            "\n",
            "Train: 1063it [00:29, 36.02it/s]"
          ]
        },
        {
          "name": "stdout",
          "output_type": "stream",
          "text": [
            "\n",
            "------------------------------------------------------------\n",
            "| end of epoch   6 | mean dist 0.010 | total loss 2957.810 |\n",
            "------------------------------------------------------------\n",
            "\n"
          ]
        },
        {
          "name": "stderr",
          "output_type": "stream",
          "text": [
            "\n",
            "Train: 1063it [00:29, 36.07it/s]"
          ]
        },
        {
          "name": "stdout",
          "output_type": "stream",
          "text": [
            "\n",
            "------------------------------------------------------------\n",
            "| end of epoch   7 | mean dist 0.006 | total loss 2838.626 |\n",
            "------------------------------------------------------------\n",
            "\n"
          ]
        },
        {
          "name": "stderr",
          "output_type": "stream",
          "text": [
            "\n",
            "Train: 1063it [00:29, 36.28it/s]"
          ]
        },
        {
          "name": "stdout",
          "output_type": "stream",
          "text": [
            "\n",
            "------------------------------------------------------------\n",
            "| end of epoch   8 | mean dist 0.003 | total loss 2788.568 |\n",
            "------------------------------------------------------------\n",
            "\n"
          ]
        },
        {
          "name": "stderr",
          "output_type": "stream",
          "text": [
            "\n",
            "Train: 1063it [00:28, 37.04it/s]"
          ]
        },
        {
          "name": "stdout",
          "output_type": "stream",
          "text": [
            "\n",
            "------------------------------------------------------------\n",
            "| end of epoch   9 | mean dist 0.002 | total loss 2780.219 |\n",
            "------------------------------------------------------------\n",
            "\n"
          ]
        },
        {
          "name": "stderr",
          "output_type": "stream",
          "text": [
            "\n",
            "Train: 1063it [00:28, 36.84it/s]\n"
          ]
        },
        {
          "name": "stdout",
          "output_type": "stream",
          "text": [
            "\n",
            "------------------------------------------------------------\n",
            "| end of epoch  10 | mean dist 0.002 | total loss 2747.065 |\n",
            "------------------------------------------------------------\n",
            "\n"
          ]
        }
      ],
      "source": [
        "transE_25_1e_3.train_model()"
      ]
    },
    {
      "cell_type": "code",
      "execution_count": 54,
      "metadata": {
        "colab": {
          "base_uri": "https://localhost:8080/"
        },
        "id": "U8fYWHBJoJBu",
        "outputId": "24437279-b32f-43ab-e11b-14abbdcece9d"
      },
      "outputs": [
        {
          "name": "stdout",
          "output_type": "stream",
          "text": [
            "TransEImpl(\n",
            "  (entities): Embedding(14505, 50)\n",
            "  (relationships): Embedding(237, 50)\n",
            "  (criterion): MarginRankingLoss()\n",
            ")\n"
          ]
        }
      ],
      "source": [
        "transE_50_1e_3 = TransE(train_dataset, k=50, lr=0.001)"
      ]
    },
    {
      "cell_type": "code",
      "execution_count": 55,
      "metadata": {
        "colab": {
          "base_uri": "https://localhost:8080/"
        },
        "id": "aIHOjmmHoK-_",
        "outputId": "eb29c0eb-9ce8-4f36-f000-f4ead3c9224e"
      },
      "outputs": [
        {
          "name": "stderr",
          "output_type": "stream",
          "text": [
            "Train: 1063it [00:29, 35.89it/s]"
          ]
        },
        {
          "name": "stdout",
          "output_type": "stream",
          "text": [
            "\n",
            "----------------------------------------------------------------\n",
            "| end of epoch   1 | mean dist 2.586 | total loss 66615411.274 |\n",
            "----------------------------------------------------------------\n",
            "\n"
          ]
        },
        {
          "name": "stderr",
          "output_type": "stream",
          "text": [
            "\n",
            "Train: 1063it [00:28, 36.77it/s]"
          ]
        },
        {
          "name": "stdout",
          "output_type": "stream",
          "text": [
            "\n",
            "---------------------------------------------------------------\n",
            "| end of epoch   2 | mean dist 0.586 | total loss 8711007.709 |\n",
            "---------------------------------------------------------------\n",
            "\n"
          ]
        },
        {
          "name": "stderr",
          "output_type": "stream",
          "text": [
            "\n",
            "Train: 1063it [00:28, 36.70it/s]"
          ]
        },
        {
          "name": "stdout",
          "output_type": "stream",
          "text": [
            "\n",
            "--------------------------------------------------------------\n",
            "| end of epoch   3 | mean dist 0.164 | total loss 586665.059 |\n",
            "--------------------------------------------------------------\n",
            "\n"
          ]
        },
        {
          "name": "stderr",
          "output_type": "stream",
          "text": [
            "\n",
            "Train: 1063it [00:29, 35.61it/s]"
          ]
        },
        {
          "name": "stdout",
          "output_type": "stream",
          "text": [
            "\n",
            "-------------------------------------------------------------\n",
            "| end of epoch   4 | mean dist 0.052 | total loss 33885.188 |\n",
            "-------------------------------------------------------------\n",
            "\n"
          ]
        },
        {
          "name": "stderr",
          "output_type": "stream",
          "text": [
            "\n",
            "Train: 1063it [00:29, 36.50it/s]"
          ]
        },
        {
          "name": "stdout",
          "output_type": "stream",
          "text": [
            "\n",
            "------------------------------------------------------------\n",
            "| end of epoch   5 | mean dist 0.019 | total loss 4710.721 |\n",
            "------------------------------------------------------------\n",
            "\n"
          ]
        },
        {
          "name": "stderr",
          "output_type": "stream",
          "text": [
            "\n",
            "Train: 1063it [00:29, 36.33it/s]"
          ]
        },
        {
          "name": "stdout",
          "output_type": "stream",
          "text": [
            "\n",
            "------------------------------------------------------------\n",
            "| end of epoch   6 | mean dist 0.009 | total loss 2830.017 |\n",
            "------------------------------------------------------------\n",
            "\n"
          ]
        },
        {
          "name": "stderr",
          "output_type": "stream",
          "text": [
            "\n",
            "Train: 1063it [00:29, 35.51it/s]"
          ]
        },
        {
          "name": "stdout",
          "output_type": "stream",
          "text": [
            "\n",
            "------------------------------------------------------------\n",
            "| end of epoch   7 | mean dist 0.005 | total loss 2794.419 |\n",
            "------------------------------------------------------------\n",
            "\n"
          ]
        },
        {
          "name": "stderr",
          "output_type": "stream",
          "text": [
            "\n",
            "Train: 1063it [00:29, 36.29it/s]"
          ]
        },
        {
          "name": "stdout",
          "output_type": "stream",
          "text": [
            "\n",
            "------------------------------------------------------------\n",
            "| end of epoch   8 | mean dist 0.003 | total loss 2761.758 |\n",
            "------------------------------------------------------------\n",
            "\n"
          ]
        },
        {
          "name": "stderr",
          "output_type": "stream",
          "text": [
            "\n",
            "Train: 1063it [00:29, 36.26it/s]"
          ]
        },
        {
          "name": "stdout",
          "output_type": "stream",
          "text": [
            "\n",
            "------------------------------------------------------------\n",
            "| end of epoch   9 | mean dist 0.002 | total loss 2731.412 |\n",
            "------------------------------------------------------------\n",
            "\n"
          ]
        },
        {
          "name": "stderr",
          "output_type": "stream",
          "text": [
            "\n",
            "Train: 1063it [00:30, 35.38it/s]"
          ]
        },
        {
          "name": "stdout",
          "output_type": "stream",
          "text": [
            "\n",
            "------------------------------------------------------------\n",
            "| end of epoch  10 | mean dist 0.001 | total loss 2758.277 |\n",
            "------------------------------------------------------------\n",
            "\n"
          ]
        },
        {
          "name": "stderr",
          "output_type": "stream",
          "text": [
            "\n"
          ]
        }
      ],
      "source": [
        "transE_50_1e_3.train_model()"
      ]
    },
    {
      "cell_type": "code",
      "execution_count": 56,
      "metadata": {
        "colab": {
          "base_uri": "https://localhost:8080/"
        },
        "id": "xR3NtmqSoO9I",
        "outputId": "0354843a-f20c-4de6-8b1c-ee20e273845f"
      },
      "outputs": [
        {
          "name": "stdout",
          "output_type": "stream",
          "text": [
            "TransEImpl(\n",
            "  (entities): Embedding(14505, 25)\n",
            "  (relationships): Embedding(237, 25)\n",
            "  (criterion): MarginRankingLoss()\n",
            ")\n"
          ]
        }
      ],
      "source": [
        "transE_25_1e_4 = TransE(train_dataset, k=25, lr=1e-4)"
      ]
    },
    {
      "cell_type": "code",
      "execution_count": 57,
      "metadata": {
        "colab": {
          "base_uri": "https://localhost:8080/"
        },
        "id": "rgUvqpj_oT75",
        "outputId": "156ce001-2707-4945-a88f-9cf878673711"
      },
      "outputs": [
        {
          "name": "stderr",
          "output_type": "stream",
          "text": [
            "Train: 1063it [00:29, 36.23it/s]"
          ]
        },
        {
          "name": "stdout",
          "output_type": "stream",
          "text": [
            "\n",
            "---------------------------------------------------------------\n",
            "| end of epoch   1 | mean dist 4.544 | total loss 9385219.402 |\n",
            "---------------------------------------------------------------\n",
            "\n"
          ]
        },
        {
          "name": "stderr",
          "output_type": "stream",
          "text": [
            "\n",
            "Train: 1063it [00:29, 36.13it/s]"
          ]
        },
        {
          "name": "stdout",
          "output_type": "stream",
          "text": [
            "\n",
            "----------------------------------------------------------------\n",
            "| end of epoch   2 | mean dist 4.033 | total loss 10091581.042 |\n",
            "----------------------------------------------------------------\n",
            "\n"
          ]
        },
        {
          "name": "stderr",
          "output_type": "stream",
          "text": [
            "\n",
            "Train: 1063it [00:29, 35.59it/s]\n"
          ]
        },
        {
          "name": "stdout",
          "output_type": "stream",
          "text": [
            "\n",
            "---------------------------------------------------------------\n",
            "| end of epoch   3 | mean dist 3.582 | total loss 9617614.019 |\n",
            "---------------------------------------------------------------\n",
            "\n"
          ]
        },
        {
          "name": "stderr",
          "output_type": "stream",
          "text": [
            "Train: 1063it [00:29, 36.08it/s]"
          ]
        },
        {
          "name": "stdout",
          "output_type": "stream",
          "text": [
            "\n",
            "---------------------------------------------------------------\n",
            "| end of epoch   4 | mean dist 3.172 | total loss 8393753.358 |\n",
            "---------------------------------------------------------------\n",
            "\n"
          ]
        },
        {
          "name": "stderr",
          "output_type": "stream",
          "text": [
            "\n",
            "Train: 1063it [00:29, 35.95it/s]"
          ]
        },
        {
          "name": "stdout",
          "output_type": "stream",
          "text": [
            "\n",
            "---------------------------------------------------------------\n",
            "| end of epoch   5 | mean dist 2.833 | total loss 6761120.814 |\n",
            "---------------------------------------------------------------\n",
            "\n"
          ]
        },
        {
          "name": "stderr",
          "output_type": "stream",
          "text": [
            "\n",
            "Train: 1063it [00:28, 36.73it/s]"
          ]
        },
        {
          "name": "stdout",
          "output_type": "stream",
          "text": [
            "\n",
            "---------------------------------------------------------------\n",
            "| end of epoch   6 | mean dist 2.514 | total loss 5690295.239 |\n",
            "---------------------------------------------------------------\n",
            "\n"
          ]
        },
        {
          "name": "stderr",
          "output_type": "stream",
          "text": [
            "\n",
            "Train: 1063it [00:28, 37.16it/s]"
          ]
        },
        {
          "name": "stdout",
          "output_type": "stream",
          "text": [
            "\n",
            "---------------------------------------------------------------\n",
            "| end of epoch   7 | mean dist 2.254 | total loss 4591505.244 |\n",
            "---------------------------------------------------------------\n",
            "\n"
          ]
        },
        {
          "name": "stderr",
          "output_type": "stream",
          "text": [
            "\n",
            "Train: 1063it [00:28, 36.95it/s]"
          ]
        },
        {
          "name": "stdout",
          "output_type": "stream",
          "text": [
            "\n",
            "---------------------------------------------------------------\n",
            "| end of epoch   8 | mean dist 1.993 | total loss 4001383.121 |\n",
            "---------------------------------------------------------------\n",
            "\n"
          ]
        },
        {
          "name": "stderr",
          "output_type": "stream",
          "text": [
            "\n",
            "Train: 1063it [00:29, 36.10it/s]"
          ]
        },
        {
          "name": "stdout",
          "output_type": "stream",
          "text": [
            "\n",
            "---------------------------------------------------------------\n",
            "| end of epoch   9 | mean dist 1.786 | total loss 3187532.544 |\n",
            "---------------------------------------------------------------\n",
            "\n"
          ]
        },
        {
          "name": "stderr",
          "output_type": "stream",
          "text": [
            "\n",
            "Train: 1063it [00:28, 37.54it/s]"
          ]
        },
        {
          "name": "stdout",
          "output_type": "stream",
          "text": [
            "\n",
            "---------------------------------------------------------------\n",
            "| end of epoch  10 | mean dist 1.612 | total loss 2307650.397 |\n",
            "---------------------------------------------------------------\n",
            "\n"
          ]
        },
        {
          "name": "stderr",
          "output_type": "stream",
          "text": [
            "\n"
          ]
        }
      ],
      "source": [
        "transE_25_1e_4.train_model()"
      ]
    },
    {
      "cell_type": "code",
      "execution_count": 58,
      "metadata": {
        "colab": {
          "base_uri": "https://localhost:8080/"
        },
        "id": "zGp1iOt8oW6i",
        "outputId": "9098f11f-6e7d-4478-c996-91ecf293f588"
      },
      "outputs": [
        {
          "name": "stdout",
          "output_type": "stream",
          "text": [
            "TransEImpl(\n",
            "  (entities): Embedding(14505, 50)\n",
            "  (relationships): Embedding(237, 50)\n",
            "  (criterion): MarginRankingLoss()\n",
            ")\n"
          ]
        }
      ],
      "source": [
        "transE_50_1e_4 = TransE(train_dataset, k=50, lr=1e-4)"
      ]
    },
    {
      "cell_type": "code",
      "execution_count": null,
      "metadata": {
        "colab": {
          "base_uri": "https://localhost:8080/"
        },
        "id": "ogSCPJ7ioe-r",
        "outputId": "7f8c0347-8844-4f32-a00f-33e746dfcd0d"
      },
      "outputs": [
        {
          "name": "stderr",
          "output_type": "stream",
          "text": [
            "Train: 1063it [00:28, 37.26it/s]\n"
          ]
        },
        {
          "name": "stdout",
          "output_type": "stream",
          "text": [
            "\n",
            "---------------------------------------------------------------\n",
            "| end of epoch   1 | mean dist 4.579 | total loss 8385579.268 |\n",
            "---------------------------------------------------------------\n",
            "\n"
          ]
        },
        {
          "name": "stderr",
          "output_type": "stream",
          "text": [
            "Train: 1063it [00:29, 36.21it/s]"
          ]
        },
        {
          "name": "stdout",
          "output_type": "stream",
          "text": [
            "\n",
            "----------------------------------------------------------------\n",
            "| end of epoch   2 | mean dist 4.080 | total loss 10223934.682 |\n",
            "----------------------------------------------------------------\n",
            "\n"
          ]
        },
        {
          "name": "stderr",
          "output_type": "stream",
          "text": [
            "\n",
            "Train: 1063it [00:28, 37.23it/s]\n"
          ]
        },
        {
          "name": "stdout",
          "output_type": "stream",
          "text": [
            "\n",
            "---------------------------------------------------------------\n",
            "| end of epoch   3 | mean dist 3.617 | total loss 9486109.648 |\n",
            "---------------------------------------------------------------\n",
            "\n"
          ]
        },
        {
          "name": "stderr",
          "output_type": "stream",
          "text": [
            "Train: 1063it [00:28, 37.32it/s]"
          ]
        },
        {
          "name": "stdout",
          "output_type": "stream",
          "text": [
            "\n",
            "---------------------------------------------------------------\n",
            "| end of epoch   4 | mean dist 3.200 | total loss 8114705.790 |\n",
            "---------------------------------------------------------------\n",
            "\n"
          ]
        },
        {
          "name": "stderr",
          "output_type": "stream",
          "text": [
            "\n",
            "Train: 1063it [00:28, 37.69it/s]"
          ]
        },
        {
          "name": "stdout",
          "output_type": "stream",
          "text": [
            "\n",
            "---------------------------------------------------------------\n",
            "| end of epoch   5 | mean dist 2.868 | total loss 6722089.113 |\n",
            "---------------------------------------------------------------\n",
            "\n"
          ]
        },
        {
          "name": "stderr",
          "output_type": "stream",
          "text": [
            "\n",
            "Train: 401it [00:10, 42.04it/s]"
          ]
        }
      ],
      "source": [
        "transE_50_1e_4.train_model()"
      ]
    },
    {
      "cell_type": "markdown",
      "metadata": {
        "id": "au3HEpqioDUF"
      },
      "source": [
        "## Ploting the graphics"
      ]
    },
    {
      "cell_type": "code",
      "execution_count": 64,
      "metadata": {
        "colab": {
          "base_uri": "https://localhost:8080/",
          "height": 322
        },
        "id": "gD0LBl1kMYsk",
        "outputId": "dfd3863f-fd97-4a56-ad3d-d5a8b9748673"
      },
      "outputs": [
        {
          "data": {
            "image/png": "[encoded data removed]",
            "text/plain": [
              "<Figure size 1440x576 with 2 Axes>"
            ]
          },
          "metadata": {
            "needs_background": "light"
          },
          "output_type": "display_data"
        }
      ],
      "source": [
        "plot_training(transE_25_1e_3.k, transE_25_1e_3.lr, \n",
        "              transE_25_1e_3.losses, transE_25_1e_3.dists)"
      ]
    },
    {
      "cell_type": "code",
      "execution_count": 65,
      "metadata": {
        "colab": {
          "base_uri": "https://localhost:8080/",
          "height": 322
        },
        "id": "XqzumLkt_7LU",
        "outputId": "d5bf3e60-5797-4dec-d307-d00f196e2a33"
      },
      "outputs": [
        {
          "data": {
            "image/png": "[encoded data removed]",
            "text/plain": [
              "<Figure size 1440x576 with 2 Axes>"
            ]
          },
          "metadata": {
            "needs_background": "light"
          },
          "output_type": "display_data"
        }
      ],
      "source": [
        "plot_training(transE_50_1e_3.k, transE_50_1e_3.lr, \n",
        "              transE_50_1e_3.losses, transE_50_1e_3.dists)"
      ]
    },
    {
      "cell_type": "code",
      "execution_count": 66,
      "metadata": {
        "colab": {
          "base_uri": "https://localhost:8080/",
          "height": 322
        },
        "id": "R7okgQs7rLks",
        "outputId": "c483467b-0ca1-40a5-8b1a-d72dbea955c7"
      },
      "outputs": [
        {
          "data": {
            "image/png": "[encoded data removed]",
            "text/plain": [
              "<Figure size 1440x576 with 2 Axes>"
            ]
          },
          "metadata": {
            "needs_background": "light"
          },
          "output_type": "display_data"
        }
      ],
      "source": [
        "plot_training(transE_25_1e_4.k, transE_25_1e_4.lr, \n",
        "              transE_25_1e_4.losses, transE_25_1e_4.dists)"
      ]
    },
    {
      "cell_type": "code",
      "execution_count": 67,
      "metadata": {
        "colab": {
          "base_uri": "https://localhost:8080/",
          "height": 322
        },
        "id": "-3wZ75G6rQLW",
        "outputId": "9ae5c395-7a0e-48a0-c37e-9b8ca8ca401f"
      },
      "outputs": [
        {
          "data": {
            "image/png": "[encoded data removed]",
            "text/plain": [
              "<Figure size 1440x576 with 2 Axes>"
            ]
          },
          "metadata": {
            "needs_background": "light"
          },
          "output_type": "display_data"
        }
      ],
      "source": [
        "plot_training(transE_50_1e_4.k, transE_50_1e_4.lr, \n",
        "              transE_50_1e_4.losses, transE_50_1e_4.dists)"
      ]
    },
    {
      "cell_type": "code",
      "execution_count": null,
      "metadata": {
        "id": "nBdXv2H3r2Lu"
      },
      "outputs": [],
      "source": []
    }
  ],
  "metadata": {
    "accelerator": "GPU",
    "colab": {
      "provenance": []
    },
    "gpuClass": "standard",
    "kernelspec": {
      "display_name": "Python 3",
      "name": "python3"
    },
    "language_info": {
      "name": "python"
    }
  },
  "nbformat": 4,
  "nbformat_minor": 0
}
